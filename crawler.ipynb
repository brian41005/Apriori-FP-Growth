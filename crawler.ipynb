{
 "cells": [
  {
   "cell_type": "markdown",
   "metadata": {},
   "source": [
    "# 103590450 四資三 馬茂源\n",
    "# 備註:這執行要花上1小時以上吧，請斟酌執行QQ"
   ]
  },
  {
   "cell_type": "code",
   "execution_count": null,
   "metadata": {
    "collapsed": false
   },
   "outputs": [],
   "source": [
    "import csv, requests\n",
    "import string, lxml\n",
    "from bs4 import BeautifulSoup"
   ]
  },
  {
   "cell_type": "code",
   "execution_count": null,
   "metadata": {
    "collapsed": true
   },
   "outputs": [],
   "source": [
    "url = 'http://dblp.uni-trier.de/pers?prefix='\n",
    "url_list = [url+c for c in string.ascii_uppercase]"
   ]
  },
  {
   "cell_type": "code",
   "execution_count": null,
   "metadata": {
    "collapsed": true
   },
   "outputs": [],
   "source": [
    "def get_authors(url):\n",
    "    soup = BeautifulSoup(requests.get(url, timeout=5).text, 'lxml')\n",
    "    cols = soup.findAll('div', attrs={'class':'column min20'})\n",
    "    authors_url_list = []\n",
    "    for col in cols:\n",
    "        for url in col.findAll('a', href=True):\n",
    "            authors_url_list.append(url['href'] )\n",
    "    return authors_url_list"
   ]
  },
  {
   "cell_type": "code",
   "execution_count": null,
   "metadata": {
    "collapsed": false
   },
   "outputs": [],
   "source": [
    "Journals = []\n",
    "for each_url in url_list:\n",
    "    authors += get_authors(each_url)"
   ]
  },
  {
   "cell_type": "code",
   "execution_count": null,
   "metadata": {
    "collapsed": false
   },
   "outputs": [],
   "source": [
    "len(journals)"
   ]
  },
  {
   "cell_type": "code",
   "execution_count": null,
   "metadata": {
    "collapsed": false
   },
   "outputs": [],
   "source": [
    "journals[:10]"
   ]
  },
  {
   "cell_type": "code",
   "execution_count": null,
   "metadata": {
    "collapsed": false
   },
   "outputs": [],
   "source": [
    "small = journals[:5]"
   ]
  },
  {
   "cell_type": "code",
   "execution_count": null,
   "metadata": {
    "collapsed": true
   },
   "outputs": [],
   "source": [
    "def get_name(authors):\n",
    "    itemsets = []\n",
    "    for i, url in enumerate(authors):\n",
    "        soup = BeautifulSoup(requests.get(url, timeout=10).text, 'lxml')\n",
    "        for block in soup.findAll('div', attrs={'class':'data','itemprop':'headline'}):\n",
    "            temp = []\n",
    "            for name in block.findAll('span', attrs={'itemprop':'name'}):\n",
    "                temp.append(name.text)\n",
    "            if temp[:-2] not in itemsets:\n",
    "                itemsets.append(temp[:-2])\n",
    "        print(i)\n",
    "    return itemsets"
   ]
  },
  {
   "cell_type": "code",
   "execution_count": null,
   "metadata": {
    "collapsed": false
   },
   "outputs": [],
   "source": [
    "r = get_name(['http://dblp.uni-trier.de/pers/hd/j/Jasperneite:J=uuml=rgen',\n",
    "              'http://dblp.uni-trier.de/pers/hd/a/Alexandrovich:A=_E='])"
   ]
  },
  {
   "cell_type": "code",
   "execution_count": null,
   "metadata": {
    "collapsed": false,
    "scrolled": false
   },
   "outputs": [],
   "source": [
    "r"
   ]
  },
  {
   "cell_type": "code",
   "execution_count": null,
   "metadata": {
    "collapsed": false,
    "scrolled": true
   },
   "outputs": [],
   "source": [
    "result = get_name(authors)"
   ]
  },
  {
   "cell_type": "code",
   "execution_count": null,
   "metadata": {
    "collapsed": false
   },
   "outputs": [],
   "source": [
    "len(result)"
   ]
  },
  {
   "cell_type": "code",
   "execution_count": null,
   "metadata": {
    "collapsed": false
   },
   "outputs": [],
   "source": [
    "with open('authors_big.csv', 'w', newline='\\n', encoding='utf8') as csvfile:\n",
    "    spamwriter = csv.writer(csvfile, delimiter=',', quoting=csv.QUOTE_MINIMAL)\n",
    "    for itemset in result:\n",
    "        spamwriter.writerow(itemset)"
   ]
  }
 ],
 "metadata": {
  "kernelspec": {
   "display_name": "Python 3",
   "language": "python",
   "name": "python3"
  },
  "language_info": {
   "codemirror_mode": {
    "name": "ipython",
    "version": 3
   },
   "file_extension": ".py",
   "mimetype": "text/x-python",
   "name": "python",
   "nbconvert_exporter": "python",
   "pygments_lexer": "ipython3",
   "version": "3.5.1"
  }
 },
 "nbformat": 4,
 "nbformat_minor": 1
}
